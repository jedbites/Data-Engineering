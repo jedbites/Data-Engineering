{
 "cells": [
  {
   "cell_type": "code",
   "execution_count": 114,
   "id": "eb9f352a",
   "metadata": {},
   "outputs": [],
   "source": [
    "#import needed package\n",
    "import asyncio\n",
    "import httpx\n",
    "import pandas as pd\n",
    "import secret\n",
    "import refresh\n",
    "import requests\n",
    "from time import perf_counter"
   ]
  },
  {
   "cell_type": "code",
   "execution_count": 115,
   "id": "8adb3430",
   "metadata": {},
   "outputs": [],
   "source": [
    "#authtokens and headers\n",
    "id_token = refresh.refreshed()\n",
    "headers = {\"content-type\":\"application/json\", \"x-api-key\": secret.api_key, \"id-token\": id_token}"
   ]
  },
  {
   "cell_type": "code",
   "execution_count": 116,
   "id": "10ed6024",
   "metadata": {},
   "outputs": [],
   "source": [
    "#scrape all\n",
    "vinny_id = 62869"
   ]
  },
  {
   "cell_type": "code",
   "execution_count": 117,
   "id": "c5b994b6",
   "metadata": {},
   "outputs": [],
   "source": [
    "#api calls\n",
    "sem = asyncio.Semaphore(100)\n",
    "#scrape all id\n",
    "\n",
    "async def get_result(vinny_id:int):\n",
    "    async with sem:\n",
    "        async with httpx.AsyncClient() as client:\n",
    "            r = await client.get(f'https://bps-world.vincere.io/api/v2/candidate/{vinny_id}/industries', headers=headers)\n",
    "            if r.status_code == 200:\n",
    "                data = [{**d, 'vinny_id': vinny_id} for d in r.json()]\n",
    "                results.append(data)\n",
    "                vincere.append(vinny_id)\n",
    "                return\n",
    "            else:\n",
    "                return\n",
    "\n",
    "#trigger main function\n",
    "async def main():\n",
    "    tasks = []\n",
    "    vinny_id = 62869\n",
    "    #gen_id = df['vinny_id']\n",
    "    while vinny_id <= 103739:\n",
    "        tasks.append(get_result(vinny_id))\n",
    "        vinny_id += 1\n",
    "#     tasks = []\n",
    "#     vinny_id = 85738\n",
    "#     tasks.append(get_result(vinny_id))\n",
    "    await asyncio.gather(*tasks, return_exceptions=True)\n",
    "\n",
    "#future container for finding errors and stuff\n",
    "results = []"
   ]
  },
  {
   "cell_type": "code",
   "execution_count": 118,
   "id": "ba174573",
   "metadata": {},
   "outputs": [
    {
     "name": "stdout",
     "output_type": "stream",
     "text": [
      "time taken: 1047.8320414999998  seconds\n"
     ]
    }
   ],
   "source": [
    "#trigger the whole function\n",
    "start = perf_counter()\n",
    "await main()\n",
    "stop = perf_counter()\n",
    "print('time taken:', stop - start, ' seconds')"
   ]
  },
  {
   "cell_type": "code",
   "execution_count": 105,
   "id": "ec6f2acf",
   "metadata": {},
   "outputs": [
    {
     "data": {
      "text/plain": [
       "[[{'id': 28966, 'name': 'Engineering & Construction', 'vinny_id': 85738},\n",
       "  {'id': 28994, 'name': 'Tech Consulting & Services', 'vinny_id': 85738},\n",
       "  {'id': 28890, 'name': 'Technology', 'vinny_id': 85738}],\n",
       " [{'id': '123123', 'name': 'test', 'vinny_id': 123123}]]"
      ]
     },
     "execution_count": 105,
     "metadata": {},
     "output_type": "execute_result"
    }
   ],
   "source": [
    "results"
   ]
  },
  {
   "cell_type": "code",
   "execution_count": 119,
   "id": "147d5579",
   "metadata": {},
   "outputs": [],
   "source": [
    "flat_data = [d for sublist in results for d in sublist]"
   ]
  },
  {
   "cell_type": "code",
   "execution_count": 120,
   "id": "0532a6ea",
   "metadata": {},
   "outputs": [],
   "source": [
    "df = pd.DataFrame(flat_data, columns=['id', 'name', 'vinny_id'])"
   ]
  },
  {
   "cell_type": "code",
   "execution_count": 121,
   "id": "1c3446bf",
   "metadata": {
    "scrolled": true
   },
   "outputs": [
    {
     "data": {
      "text/html": [
       "<div>\n",
       "<style scoped>\n",
       "    .dataframe tbody tr th:only-of-type {\n",
       "        vertical-align: middle;\n",
       "    }\n",
       "\n",
       "    .dataframe tbody tr th {\n",
       "        vertical-align: top;\n",
       "    }\n",
       "\n",
       "    .dataframe thead th {\n",
       "        text-align: right;\n",
       "    }\n",
       "</style>\n",
       "<table border=\"1\" class=\"dataframe\">\n",
       "  <thead>\n",
       "    <tr style=\"text-align: right;\">\n",
       "      <th></th>\n",
       "      <th>id</th>\n",
       "      <th>name</th>\n",
       "      <th>vinny_id</th>\n",
       "    </tr>\n",
       "  </thead>\n",
       "  <tbody>\n",
       "    <tr>\n",
       "      <th>0</th>\n",
       "      <td>28776</td>\n",
       "      <td>Finance &amp; Accounting</td>\n",
       "      <td>62956</td>\n",
       "    </tr>\n",
       "    <tr>\n",
       "      <th>1</th>\n",
       "      <td>28882</td>\n",
       "      <td>Engineering</td>\n",
       "      <td>62873</td>\n",
       "    </tr>\n",
       "    <tr>\n",
       "      <th>2</th>\n",
       "      <td>28776</td>\n",
       "      <td>Finance &amp; Accounting</td>\n",
       "      <td>62896</td>\n",
       "    </tr>\n",
       "    <tr>\n",
       "      <th>3</th>\n",
       "      <td>28868</td>\n",
       "      <td>Sales &amp; Marketing</td>\n",
       "      <td>62909</td>\n",
       "    </tr>\n",
       "    <tr>\n",
       "      <th>4</th>\n",
       "      <td>28868</td>\n",
       "      <td>Sales &amp; Marketing</td>\n",
       "      <td>62874</td>\n",
       "    </tr>\n",
       "    <tr>\n",
       "      <th>...</th>\n",
       "      <td>...</td>\n",
       "      <td>...</td>\n",
       "      <td>...</td>\n",
       "    </tr>\n",
       "    <tr>\n",
       "      <th>37277</th>\n",
       "      <td>28890</td>\n",
       "      <td>Technology</td>\n",
       "      <td>103736</td>\n",
       "    </tr>\n",
       "    <tr>\n",
       "      <th>37278</th>\n",
       "      <td>28890</td>\n",
       "      <td>Technology</td>\n",
       "      <td>103734</td>\n",
       "    </tr>\n",
       "    <tr>\n",
       "      <th>37279</th>\n",
       "      <td>28890</td>\n",
       "      <td>Technology</td>\n",
       "      <td>103720</td>\n",
       "    </tr>\n",
       "    <tr>\n",
       "      <th>37280</th>\n",
       "      <td>28776</td>\n",
       "      <td>Finance &amp; Accounting</td>\n",
       "      <td>103738</td>\n",
       "    </tr>\n",
       "    <tr>\n",
       "      <th>37281</th>\n",
       "      <td>28882</td>\n",
       "      <td>Engineering</td>\n",
       "      <td>103728</td>\n",
       "    </tr>\n",
       "  </tbody>\n",
       "</table>\n",
       "<p>37282 rows × 3 columns</p>\n",
       "</div>"
      ],
      "text/plain": [
       "          id                  name  vinny_id\n",
       "0      28776  Finance & Accounting     62956\n",
       "1      28882           Engineering     62873\n",
       "2      28776  Finance & Accounting     62896\n",
       "3      28868     Sales & Marketing     62909\n",
       "4      28868     Sales & Marketing     62874\n",
       "...      ...                   ...       ...\n",
       "37277  28890            Technology    103736\n",
       "37278  28890            Technology    103734\n",
       "37279  28890            Technology    103720\n",
       "37280  28776  Finance & Accounting    103738\n",
       "37281  28882           Engineering    103728\n",
       "\n",
       "[37282 rows x 3 columns]"
      ]
     },
     "execution_count": 121,
     "metadata": {},
     "output_type": "execute_result"
    }
   ],
   "source": [
    "df"
   ]
  },
  {
   "cell_type": "code",
   "execution_count": 122,
   "id": "d29de047",
   "metadata": {},
   "outputs": [],
   "source": [
    "df.to_excel('vincere_industry_candidate_230223.xlsx')"
   ]
  }
 ],
 "metadata": {
  "kernelspec": {
   "display_name": "Python 3 (ipykernel)",
   "language": "python",
   "name": "python3"
  },
  "language_info": {
   "codemirror_mode": {
    "name": "ipython",
    "version": 3
   },
   "file_extension": ".py",
   "mimetype": "text/x-python",
   "name": "python",
   "nbconvert_exporter": "python",
   "pygments_lexer": "ipython3",
   "version": "3.9.12"
  }
 },
 "nbformat": 4,
 "nbformat_minor": 5
}
