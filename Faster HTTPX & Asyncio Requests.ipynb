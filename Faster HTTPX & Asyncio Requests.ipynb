{
 "cells": [
  {
   "cell_type": "code",
   "execution_count": 1,
   "id": "9e85175d",
   "metadata": {},
   "outputs": [],
   "source": [
    "import asyncio\n",
    "import httpx\n",
    "import pandas as pd\n",
    "import secret\n",
    "import refresh\n",
    "import requests\n",
    "from time import perf_counter"
   ]
  },
  {
   "cell_type": "code",
   "execution_count": 2,
   "id": "77c891ff",
   "metadata": {},
   "outputs": [],
   "source": [
    "id_token = refresh.refreshed()\n",
    "headers = {\"content-type\":\"application/json\", \"x-api-key\": secret.api_key, \"id-token\": id_token}"
   ]
  },
  {
   "cell_type": "code",
   "execution_count": 3,
   "id": "a9226367",
   "metadata": {},
   "outputs": [
    {
     "name": "stdout",
     "output_type": "stream",
     "text": [
      "<class 'pandas.core.frame.DataFrame'>\n",
      "RangeIndex: 2731 entries, 0 to 2730\n",
      "Data columns (total 1 columns):\n",
      " #   Column    Non-Null Count  Dtype\n",
      "---  ------    --------------  -----\n",
      " 0   vinny_id  2731 non-null   int64\n",
      "dtypes: int64(1)\n",
      "memory usage: 21.5 KB\n"
     ]
    }
   ],
   "source": [
    "df = pd.read_csv('us_chinese_contact.csv')\n",
    "df.info()"
   ]
  },
  {
   "cell_type": "code",
   "execution_count": null,
   "id": "b5b5d0fd",
   "metadata": {},
   "outputs": [],
   "source": [
    "async def get_result(vinny_id:int):\n",
    "    async with httpx.AsyncClient() as client:\n",
    "        r = await client.get(f'https://bps-world.vincere.io/api/v2/candidate/{vinny_id}', headers=headers)\n",
    "        results.append(r.json())\n",
    "        return\n",
    "    \n",
    "async def main():\n",
    "    tasks = []\n",
    "    gen_id = df['vinny_id']\n",
    "    for vinny_id in gen_id:\n",
    "        tasks.append(get_result(vinny_id))\n",
    "    await asyncio.gather(*tasks)\n",
    "\n",
    "results = []"
   ]
  },
  {
   "cell_type": "code",
   "execution_count": null,
   "id": "114a8d9a",
   "metadata": {},
   "outputs": [],
   "source": [
    "start = perf_counter()\n",
    "await main()\n",
    "stop = perf_counter()\n",
    "print('time taken:', stop - start, ' seconds')"
   ]
  },
  {
   "cell_type": "code",
   "execution_count": null,
   "id": "caae249f",
   "metadata": {},
   "outputs": [],
   "source": [
    "results"
   ]
  },
  {
   "cell_type": "code",
   "execution_count": null,
   "id": "2a420a2b",
   "metadata": {},
   "outputs": [],
   "source": [
    "def get_data(id:int):\n",
    "    r = requests.get(f'https://bps-world.vincere.io/api/v2/candidate/{id}', headers=headers)\n",
    "    data_container.append(r.json())\n",
    "    return\n",
    "\n",
    "def main():\n",
    "    for i in df['vinny_id']:\n",
    "        get_data(i)\n",
    "    return\n",
    "\n",
    "data_container=[]"
   ]
  },
  {
   "cell_type": "code",
   "execution_count": null,
   "id": "abf0c62c",
   "metadata": {},
   "outputs": [],
   "source": [
    "start_slow = perf_counter()\n",
    "main()\n",
    "stop_slow = perf_counter()\n",
    "print('time taken:', stop_slow - start_slow, ' seconds')"
   ]
  },
  {
   "cell_type": "code",
   "execution_count": null,
   "id": "30d5912d",
   "metadata": {},
   "outputs": [],
   "source": [
    "data_container"
   ]
  },
  {
   "cell_type": "markdown",
   "id": "64046c85",
   "metadata": {},
   "source": [
    "## Updating contacts faster way (custom fields)"
   ]
  },
  {
   "cell_type": "markdown",
   "id": "9a194ee6",
   "metadata": {},
   "source": [
    "### Requirements for update\n",
    "{\n",
    "\"data\":[{'field_key':'', 'field_value':'',\n",
    "}] \n",
    "}"
   ]
  },
  {
   "cell_type": "code",
   "execution_count": 4,
   "id": "73540db0",
   "metadata": {},
   "outputs": [],
   "source": [
    "# async def get_data(vinny_id:int) -> dict:\n",
    "#     row = df.loc[df['vinny_id'] == vinny_id]\n",
    "#     data = await {'data':[{\n",
    "#         'field_value_ids':[11513],\n",
    "#         'field_values':[2]\n",
    "#     }]}\n",
    "#     async for col, val in row.items():\n",
    "#         async for value in val:\n",
    "#             await data['data'].append({'field_key':col,'field_value':value})\n",
    "#     return data\n",
    "\n",
    "data = {'data':[{\n",
    "    'field_key':'00e954f748e5e5fde7e341cb2697953d',\n",
    "    'field_value_ids': [11513],\n",
    "    'field_values':[2]\n",
    "}]}\n",
    "\n",
    "sem = asyncio.Semaphore(100)\n",
    "\n",
    "async def update_candidate(vinny_id:int):\n",
    "    async with sem:\n",
    "        async with httpx.AsyncClient() as client:\n",
    "            r = await client.put(f'https://bps-world.vincere.io/api/v2/candidate/{vinny_id}/customfields', headers=headers, json=data)\n",
    "            results.append(r.json())\n",
    "            return\n",
    "\n",
    "async def main():\n",
    "    tasks = []\n",
    "    gen_id = df['vinny_id']\n",
    "    for vinny_id in gen_id:\n",
    "        tasks.append(update_candidate(vinny_id))\n",
    "    await asyncio.gather(*tasks, return_exceptions=True)\n",
    "\n",
    "results = []"
   ]
  },
  {
   "cell_type": "code",
   "execution_count": null,
   "id": "753a0e8e",
   "metadata": {},
   "outputs": [],
   "source": [
    "start = perf_counter()\n",
    "await main()\n",
    "stop = perf_counter()\n",
    "print('time taken:', stop - start, ' seconds')"
   ]
  }
 ],
 "metadata": {
  "kernelspec": {
   "display_name": "Python 3 (ipykernel)",
   "language": "python",
   "name": "python3"
  },
  "language_info": {
   "codemirror_mode": {
    "name": "ipython",
    "version": 3
   },
   "file_extension": ".py",
   "mimetype": "text/x-python",
   "name": "python",
   "nbconvert_exporter": "python",
   "pygments_lexer": "ipython3",
   "version": "3.9.12"
  }
 },
 "nbformat": 4,
 "nbformat_minor": 5
}
