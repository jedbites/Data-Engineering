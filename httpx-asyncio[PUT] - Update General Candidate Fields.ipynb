{
 "cells": [
  {
   "cell_type": "code",
   "execution_count": 2,
   "id": "ab5686f0",
   "metadata": {},
   "outputs": [],
   "source": [
    "#import needed package\n",
    "import asyncio\n",
    "import httpx\n",
    "import pandas as pd\n",
    "import secret\n",
    "import refresh\n",
    "import requests\n",
    "from time import perf_counter"
   ]
  },
  {
   "cell_type": "code",
   "execution_count": 3,
   "id": "05770815",
   "metadata": {},
   "outputs": [],
   "source": [
    "#credentials\n",
    "id_token = refresh.refreshed()\n",
    "headers = {\"content-type\":\"application/json\", \"x-api-key\": secret.api_key, \"id-token\": id_token}"
   ]
  },
  {
   "cell_type": "code",
   "execution_count": 39,
   "id": "78995ca2",
   "metadata": {},
   "outputs": [
    {
     "data": {
      "text/html": [
       "<div>\n",
       "<style scoped>\n",
       "    .dataframe tbody tr th:only-of-type {\n",
       "        vertical-align: middle;\n",
       "    }\n",
       "\n",
       "    .dataframe tbody tr th {\n",
       "        vertical-align: top;\n",
       "    }\n",
       "\n",
       "    .dataframe thead th {\n",
       "        text-align: right;\n",
       "    }\n",
       "</style>\n",
       "<table border=\"1\" class=\"dataframe\">\n",
       "  <thead>\n",
       "    <tr style=\"text-align: right;\">\n",
       "      <th></th>\n",
       "      <th>Vincere ID</th>\n",
       "      <th>Record ID</th>\n",
       "      <th>New First Name</th>\n",
       "      <th>New Last Name</th>\n",
       "      <th>Original - Email</th>\n",
       "      <th>New - Email</th>\n",
       "    </tr>\n",
       "  </thead>\n",
       "  <tbody>\n",
       "    <tr>\n",
       "      <th>0</th>\n",
       "      <td>65359</td>\n",
       "      <td>19261278</td>\n",
       "      <td>Faeez Abdul</td>\n",
       "      <td>Razak</td>\n",
       "      <td>faeezrazak@gmail.com</td>\n",
       "      <td>faeezrazak@gmail.com</td>\n",
       "    </tr>\n",
       "    <tr>\n",
       "      <th>1</th>\n",
       "      <td>64524</td>\n",
       "      <td>19261768</td>\n",
       "      <td>Dražen</td>\n",
       "      <td>Janjiček</td>\n",
       "      <td>d.janjicek@gmail.com</td>\n",
       "      <td>d.janjicek@gmail.com</td>\n",
       "    </tr>\n",
       "    <tr>\n",
       "      <th>2</th>\n",
       "      <td>82599</td>\n",
       "      <td>19262852</td>\n",
       "      <td>Giorgio</td>\n",
       "      <td>Nava</td>\n",
       "      <td>nagio80@hotmail.com</td>\n",
       "      <td>nagio80@hotmail.com</td>\n",
       "    </tr>\n",
       "    <tr>\n",
       "      <th>3</th>\n",
       "      <td>90129</td>\n",
       "      <td>19262885</td>\n",
       "      <td>Fatima Joy</td>\n",
       "      <td>Jacinto-Loto</td>\n",
       "      <td>fatimajoyjacinto@gmail.com</td>\n",
       "      <td>fatimajoyjacinto@gmail.com</td>\n",
       "    </tr>\n",
       "    <tr>\n",
       "      <th>4</th>\n",
       "      <td>70506</td>\n",
       "      <td>19262888</td>\n",
       "      <td>Eng</td>\n",
       "      <td>Beng Tan</td>\n",
       "      <td>tanengbeng@gmail.com</td>\n",
       "      <td>tanengbeng@gmail.com</td>\n",
       "    </tr>\n",
       "    <tr>\n",
       "      <th>...</th>\n",
       "      <td>...</td>\n",
       "      <td>...</td>\n",
       "      <td>...</td>\n",
       "      <td>...</td>\n",
       "      <td>...</td>\n",
       "      <td>...</td>\n",
       "    </tr>\n",
       "    <tr>\n",
       "      <th>191</th>\n",
       "      <td>74855</td>\n",
       "      <td>19290430</td>\n",
       "      <td>Sing</td>\n",
       "      <td>Hwei Goh</td>\n",
       "      <td>anngohsh@gmail.com</td>\n",
       "      <td>anngohsh@gmail.com</td>\n",
       "    </tr>\n",
       "    <tr>\n",
       "      <th>192</th>\n",
       "      <td>69932</td>\n",
       "      <td>19290524</td>\n",
       "      <td>Željko</td>\n",
       "      <td>Spasojević</td>\n",
       "      <td>zex_ns@yahoo.com</td>\n",
       "      <td>zex_ns@yahoo.com</td>\n",
       "    </tr>\n",
       "    <tr>\n",
       "      <th>193</th>\n",
       "      <td>69376</td>\n",
       "      <td>19290671</td>\n",
       "      <td>Saw Ping</td>\n",
       "      <td>Yap</td>\n",
       "      <td>sawping93@gmail.com</td>\n",
       "      <td>sawping93@gmail.com</td>\n",
       "    </tr>\n",
       "    <tr>\n",
       "      <th>194</th>\n",
       "      <td>64489</td>\n",
       "      <td>19291174</td>\n",
       "      <td>Uroš</td>\n",
       "      <td>Ilić</td>\n",
       "      <td>ilic.z.uros@gmail.com</td>\n",
       "      <td>ilic.z.uros@gmail.com</td>\n",
       "    </tr>\n",
       "    <tr>\n",
       "      <th>195</th>\n",
       "      <td>70677</td>\n",
       "      <td>19300972</td>\n",
       "      <td>Aruna</td>\n",
       "      <td>Billa</td>\n",
       "      <td>aruna.billa@gmail.comm</td>\n",
       "      <td>aruna.billa@gmail.com</td>\n",
       "    </tr>\n",
       "  </tbody>\n",
       "</table>\n",
       "<p>196 rows × 6 columns</p>\n",
       "</div>"
      ],
      "text/plain": [
       "     Vincere ID  Record ID New First Name New Last Name  \\\n",
       "0         65359   19261278   Faeez Abdul          Razak   \n",
       "1         64524   19261768         Dražen      Janjiček   \n",
       "2         82599   19262852        Giorgio          Nava   \n",
       "3         90129   19262885     Fatima Joy  Jacinto-Loto   \n",
       "4         70506   19262888            Eng      Beng Tan   \n",
       "..          ...        ...            ...           ...   \n",
       "191       74855   19290430           Sing      Hwei Goh   \n",
       "192       69932   19290524         Željko    Spasojević   \n",
       "193       69376   19290671       Saw Ping           Yap   \n",
       "194       64489   19291174           Uroš          Ilić   \n",
       "195       70677   19300972          Aruna         Billa   \n",
       "\n",
       "               Original - Email                 New - Email  \n",
       "0          faeezrazak@gmail.com        faeezrazak@gmail.com  \n",
       "1          d.janjicek@gmail.com        d.janjicek@gmail.com  \n",
       "2           nagio80@hotmail.com         nagio80@hotmail.com  \n",
       "3    fatimajoyjacinto@gmail.com  fatimajoyjacinto@gmail.com  \n",
       "4          tanengbeng@gmail.com        tanengbeng@gmail.com  \n",
       "..                          ...                         ...  \n",
       "191          anngohsh@gmail.com          anngohsh@gmail.com  \n",
       "192            zex_ns@yahoo.com            zex_ns@yahoo.com  \n",
       "193         sawping93@gmail.com         sawping93@gmail.com  \n",
       "194       ilic.z.uros@gmail.com       ilic.z.uros@gmail.com  \n",
       "195      aruna.billa@gmail.comm       aruna.billa@gmail.com  \n",
       "\n",
       "[196 rows x 6 columns]"
      ]
     },
     "execution_count": 39,
     "metadata": {},
     "output_type": "execute_result"
    }
   ],
   "source": [
    "df = pd.read_excel('vincere_restore_file.xlsx')\n",
    "df"
   ]
  },
  {
   "cell_type": "code",
   "execution_count": 4,
   "id": "5c0a67ca",
   "metadata": {},
   "outputs": [],
   "source": [
    "#sem_GET = asyncio.Semaphore(100)\n",
    "sem_PUT = asyncio.Semaphore(10)\n",
    "    \n",
    "#determining if it has the custom field data\n",
    "def add_updated_data(data: dict, first_name: str, last_name: str, email: str) -> dict:\n",
    "    data['first_name'] = first_name\n",
    "    data['last_name'] = last_name\n",
    "    data['email'] = email\n",
    "    return data\n",
    "    \n",
    "#requesting data first\n",
    "def request_data(id: int) -> dict:\n",
    "    with httpx.Client() as client:\n",
    "        r = client.get(f'https://bps-world.vincere.io/api/v2/candidate/{id}/', headers=headers)\n",
    "        if r.status_code == 200:\n",
    "            response = r.json()\n",
    "            return response\n",
    "        else:\n",
    "            errorID_get[id] = r.status_code\n",
    "            return {}\n",
    "\n",
    "#update data\n",
    "async def update_data(id: int, first_name: str, last_name: str, email: str) -> None:\n",
    "    async with sem_PUT:\n",
    "        async with httpx.AsyncClient() as client:\n",
    "            response_data = request_data(id)\n",
    "            data_container = add_updated_data(response_data, first_name, last_name, email)\n",
    "            r = await client.put(f'https://bps-world.vincere.io/api/v2/candidate/{id}/', headers=headers, json=data_container)\n",
    "            if r.status_code == 200:\n",
    "                success[id] = r.status_code\n",
    "                return\n",
    "            else:\n",
    "                errorID_put[id] = r.status_code\n",
    "                return\n",
    "                \n",
    "#store errors for future reference\n",
    "errorID_get = {}\n",
    "errorID_put = {}\n",
    "success = {}\n",
    "\n",
    "async def main():\n",
    "    vincere_id = 85738\n",
    "    first_name = 'Hey Joshua'\n",
    "    last_name = 'Welcome to API World'\n",
    "    email = 'welcome@gmail.com'\n",
    "    await update_data(vincere_id, first_name, last_name, email)\n",
    "#    for a, b, c, d in zip(df['Vincere ID'], df['New First Name'], df['New Last Name'], df['New - Email']):\n",
    "#        await update_data(a, b, c, d)"
   ]
  },
  {
   "cell_type": "code",
   "execution_count": 5,
   "id": "fcfad3f5",
   "metadata": {},
   "outputs": [
    {
     "name": "stdout",
     "output_type": "stream",
     "text": [
      "time taken: 3.2433796999999913  seconds\n"
     ]
    }
   ],
   "source": [
    "#trigger the whole function\n",
    "start = perf_counter()\n",
    "await main()\n",
    "stop = perf_counter()\n",
    "print('time taken:', stop - start, ' seconds')"
   ]
  },
  {
   "cell_type": "code",
   "execution_count": 43,
   "id": "b9387c7f",
   "metadata": {},
   "outputs": [
    {
     "data": {
      "text/plain": [
       "196"
      ]
     },
     "execution_count": 43,
     "metadata": {},
     "output_type": "execute_result"
    }
   ],
   "source": [
    "len(success)"
   ]
  },
  {
   "cell_type": "code",
   "execution_count": 44,
   "id": "0f10835e",
   "metadata": {},
   "outputs": [
    {
     "data": {
      "text/plain": [
       "{}"
      ]
     },
     "execution_count": 44,
     "metadata": {},
     "output_type": "execute_result"
    }
   ],
   "source": [
    "errorID_get"
   ]
  },
  {
   "cell_type": "code",
   "execution_count": 45,
   "id": "3a2c8a72",
   "metadata": {},
   "outputs": [
    {
     "data": {
      "text/plain": [
       "{}"
      ]
     },
     "execution_count": 45,
     "metadata": {},
     "output_type": "execute_result"
    }
   ],
   "source": [
    "errorID_put"
   ]
  }
 ],
 "metadata": {
  "kernelspec": {
   "display_name": "Python 3 (ipykernel)",
   "language": "python",
   "name": "python3"
  },
  "language_info": {
   "codemirror_mode": {
    "name": "ipython",
    "version": 3
   },
   "file_extension": ".py",
   "mimetype": "text/x-python",
   "name": "python",
   "nbconvert_exporter": "python",
   "pygments_lexer": "ipython3",
   "version": "3.9.12"
  }
 },
 "nbformat": 4,
 "nbformat_minor": 5
}
