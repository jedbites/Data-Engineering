{
 "cells": [
  {
   "cell_type": "code",
   "execution_count": 1,
   "id": "2ed53273",
   "metadata": {},
   "outputs": [],
   "source": [
    "#import needed package\n",
    "import asyncio\n",
    "import httpx\n",
    "import pandas as pd\n",
    "import secret\n",
    "import refresh\n",
    "from time import perf_counter"
   ]
  },
  {
   "cell_type": "code",
   "execution_count": 2,
   "id": "e8a35e8e",
   "metadata": {},
   "outputs": [],
   "source": [
    "#authtokens and headers\n",
    "id_token = refresh.refreshed()\n",
    "headers = {\"content-type\":\"application/json\", \"x-api-key\": secret.api_key, \"id-token\": id_token}"
   ]
  },
  {
   "cell_type": "code",
   "execution_count": 3,
   "id": "d782d26d",
   "metadata": {},
   "outputs": [],
   "source": [
    "#scrape all\n",
    "vinny_id = 62869"
   ]
  },
  {
   "cell_type": "code",
   "execution_count": 4,
   "id": "3b676544",
   "metadata": {},
   "outputs": [],
   "source": [
    "#api calls\n",
    "sem = asyncio.Semaphore(100)\n",
    "#scrape all id\n",
    "\n",
    "async def get_result(vinny_id:int):\n",
    "    async with sem:\n",
    "        async with httpx.AsyncClient() as client:\n",
    "            r = await client.get(f'https://bps-world.vincere.io/api/v2/candidate/{vinny_id}/subindustries', headers=headers)\n",
    "            if r.status_code == 200:\n",
    "                data = [{**d, 'vinny_id': vinny_id} for d in r.json()]\n",
    "                results.append(data)\n",
    "                vincere.append(vinny_id)\n",
    "                return\n",
    "            else:\n",
    "                return\n",
    "\n",
    "#trigger main function\n",
    "async def main():\n",
    "    tasks = []\n",
    "    vinny_id = 62869\n",
    "    #gen_id = df['vinny_id']\n",
    "    while vinny_id <= 103739:\n",
    "        tasks.append(get_result(vinny_id))\n",
    "        vinny_id += 1\n",
    "#     tasks = []\n",
    "#     vinny_id = 85738\n",
    "#     tasks.append(get_result(vinny_id))\n",
    "    await asyncio.gather(*tasks, return_exceptions=True)\n",
    "\n",
    "#future container for finding errors and stuff\n",
    "results = []"
   ]
  },
  {
   "cell_type": "code",
   "execution_count": 5,
   "id": "81be347b",
   "metadata": {},
   "outputs": [
    {
     "name": "stdout",
     "output_type": "stream",
     "text": [
      "time taken: 1392.1066551  seconds\n"
     ]
    }
   ],
   "source": [
    "#trigger the whole function\n",
    "start = perf_counter()\n",
    "await main()\n",
    "stop = perf_counter()\n",
    "print('time taken:', stop - start, ' seconds')"
   ]
  },
  {
   "cell_type": "code",
   "execution_count": 6,
   "id": "e17bd883",
   "metadata": {},
   "outputs": [],
   "source": [
    "flat_data = [d for sublist in results for d in sublist]"
   ]
  },
  {
   "cell_type": "code",
   "execution_count": 8,
   "id": "9688690d",
   "metadata": {},
   "outputs": [],
   "source": [
    "df = pd.DataFrame(flat_data, columns=['id', 'name', 'vinny_id'])"
   ]
  },
  {
   "cell_type": "code",
   "execution_count": 9,
   "id": "a3fe53cf",
   "metadata": {},
   "outputs": [],
   "source": [
    "df.to_excel('vincere_sub_industry_candidate_230223.xlsx')"
   ]
  }
 ],
 "metadata": {
  "kernelspec": {
   "display_name": "Python 3 (ipykernel)",
   "language": "python",
   "name": "python3"
  },
  "language_info": {
   "codemirror_mode": {
    "name": "ipython",
    "version": 3
   },
   "file_extension": ".py",
   "mimetype": "text/x-python",
   "name": "python",
   "nbconvert_exporter": "python",
   "pygments_lexer": "ipython3",
   "version": "3.9.12"
  }
 },
 "nbformat": 4,
 "nbformat_minor": 5
}
