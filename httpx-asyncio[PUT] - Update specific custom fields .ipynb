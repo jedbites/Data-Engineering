{
 "cells": [
  {
   "cell_type": "code",
   "execution_count": 4,
   "id": "855ad762",
   "metadata": {},
   "outputs": [],
   "source": [
    "#import needed package\n",
    "import asyncio\n",
    "import httpx\n",
    "import pandas as pd\n",
    "import secret\n",
    "import refresh\n",
    "import requests\n",
    "from time import perf_counter\n",
    "from datetime import datetime"
   ]
  },
  {
   "cell_type": "code",
   "execution_count": 5,
   "id": "0fdea0db",
   "metadata": {},
   "outputs": [],
   "source": [
    "#credentials\n",
    "id_token = refresh.refreshed()\n",
    "headers = {\"content-type\":\"application/json\", \"x-api-key\": secret.api_key, \"id-token\": id_token}"
   ]
  },
  {
   "cell_type": "code",
   "execution_count": 6,
   "id": "2c5cf510",
   "metadata": {
    "scrolled": true
   },
   "outputs": [
    {
     "data": {
      "text/html": [
       "<div>\n",
       "<style scoped>\n",
       "    .dataframe tbody tr th:only-of-type {\n",
       "        vertical-align: middle;\n",
       "    }\n",
       "\n",
       "    .dataframe tbody tr th {\n",
       "        vertical-align: top;\n",
       "    }\n",
       "\n",
       "    .dataframe thead th {\n",
       "        text-align: right;\n",
       "    }\n",
       "</style>\n",
       "<table border=\"1\" class=\"dataframe\">\n",
       "  <thead>\n",
       "    <tr style=\"text-align: right;\">\n",
       "      <th></th>\n",
       "      <th>Record ID</th>\n",
       "      <th>Vincere ID</th>\n",
       "    </tr>\n",
       "  </thead>\n",
       "  <tbody>\n",
       "    <tr>\n",
       "      <th>0</th>\n",
       "      <td>17530871</td>\n",
       "      <td>73520</td>\n",
       "    </tr>\n",
       "    <tr>\n",
       "      <th>1</th>\n",
       "      <td>17530821</td>\n",
       "      <td>82637</td>\n",
       "    </tr>\n",
       "    <tr>\n",
       "      <th>2</th>\n",
       "      <td>17530721</td>\n",
       "      <td>82587</td>\n",
       "    </tr>\n",
       "    <tr>\n",
       "      <th>3</th>\n",
       "      <td>17530671</td>\n",
       "      <td>82586</td>\n",
       "    </tr>\n",
       "    <tr>\n",
       "      <th>4</th>\n",
       "      <td>17530622</td>\n",
       "      <td>82585</td>\n",
       "    </tr>\n",
       "  </tbody>\n",
       "</table>\n",
       "</div>"
      ],
      "text/plain": [
       "   Record ID  Vincere ID\n",
       "0   17530871       73520\n",
       "1   17530821       82637\n",
       "2   17530721       82587\n",
       "3   17530671       82586\n",
       "4   17530622       82585"
      ]
     },
     "execution_count": 6,
     "metadata": {},
     "output_type": "execute_result"
    }
   ],
   "source": [
    "#read excel file\n",
    "df = pd.read_excel('hubspotid_update_140223.xlsx')\n",
    "df.head()"
   ]
  },
  {
   "cell_type": "code",
   "execution_count": 10,
   "id": "fb4f5284",
   "metadata": {},
   "outputs": [],
   "source": [
    "#sem_GET = asyncio.Semaphore(100)\n",
    "sem_PUT = asyncio.Semaphore(10)\n",
    "\n",
    "#changing \"key\" field to \"field_key\"\n",
    "def change_dict(data: dict) -> dict:\n",
    "    if data:\n",
    "        data_update = {'data':[{}]}\n",
    "        for i in data:\n",
    "            i['field_key'] = i.pop('key')\n",
    "        data_update['data'] = data\n",
    "        return data_update\n",
    "    else:\n",
    "        return {}\n",
    "\n",
    "#removing the \"field key\" data that is going to be updated\n",
    "def data_added(data: dict, hs_id: int) -> dict:\n",
    "    if data:\n",
    "        data_container = [d for d in data if d['key'] != \"6c04623e10d39f08d1b2542e138b7efc\"]\n",
    "        data_remove = [d for d in data if d['key'] == \"6c04623e10d39f08d1b2542e138b7efc\"]\n",
    "        data_remove[0]['field_value'] = hs_id\n",
    "        data_container.append(data_remove[0])\n",
    "        return data_container\n",
    "    else:\n",
    "        return {}\n",
    "    \n",
    "#determining if it has the custom field data\n",
    "def add_custom(data: dict) -> dict:\n",
    "    data_container = [d for d in data if d['key'] == \"6c04623e10d39f08d1b2542e138b7efc\"]\n",
    "    if data_container == []:\n",
    "        data_cont = {'key': '6c04623e10d39f08d1b2542e138b7efc','type': 'TEXT_BOX','field_value_ids': None,'field_values': None,\n",
    "                'field_value': 0,'date_value': None,'element_value_groups': None}\n",
    "        data.append(data_cont)\n",
    "        return data\n",
    "    else:\n",
    "        return data \n",
    "        \n",
    "#requesting data first\n",
    "def request_data(id: int) -> dict:\n",
    "    with httpx.Client() as client:\n",
    "        r = client.get(f'https://bps-world.vincere.io/api/v2/candidate/{id}/customfields', headers=headers)\n",
    "        if r.status_code == 200:\n",
    "            response = add_custom(r.json())\n",
    "            return response\n",
    "        else:\n",
    "            errorID_get[id] = r.status_code\n",
    "            return {}\n",
    "\n",
    "#update data\n",
    "async def update_data(id: int, hs_id: int) -> None:\n",
    "    async with sem_PUT:\n",
    "        async with httpx.AsyncClient() as client:\n",
    "            response_data = request_data(id)\n",
    "            updated_data = data_added(response_data, hs_id)\n",
    "            data_container = change_dict(updated_data)\n",
    "            r = await client.put(f'https://bps-world.vincere.io/api/v2/candidate/{id}/customfields', headers=headers, json=data_container)\n",
    "            if r.status_code == 200:\n",
    "                success[id] = r.status_code\n",
    "                return\n",
    "            else:\n",
    "                errorID_put[id] = r.status_code\n",
    "                return\n",
    "                \n",
    "#store errors for future reference\n",
    "errorID_get = {}\n",
    "errorID_put = {}\n",
    "success = {}\n",
    "\n",
    "async def main():\n",
    "    vincere_id = 85738\n",
    "    record_id = 333333\n",
    "    await update_data(vincere_id, record_id)\n",
    "#     for x, y in zip(df['Vincere ID'], df['Record ID']):\n",
    "#         await update_data(x, y)"
   ]
  },
  {
   "cell_type": "code",
   "execution_count": 11,
   "id": "7b8dec7a",
   "metadata": {},
   "outputs": [
    {
     "name": "stdout",
     "output_type": "stream",
     "text": [
      "20:54:35\n"
     ]
    }
   ],
   "source": [
    "currentDateAndTime = datetime.now()\n",
    "currentTime = currentDateAndTime.strftime(\"%H:%M:%S\")\n",
    "print(currentTime)"
   ]
  },
  {
   "cell_type": "code",
   "execution_count": 12,
   "id": "163bd81b",
   "metadata": {
    "scrolled": true
   },
   "outputs": [
    {
     "name": "stdout",
     "output_type": "stream",
     "text": [
      "time taken: 2.3784418000000187  seconds\n"
     ]
    }
   ],
   "source": [
    "#trigger the whole function\n",
    "start = perf_counter()\n",
    "await main()\n",
    "stop = perf_counter()\n",
    "print('time taken:', stop - start, ' seconds')"
   ]
  },
  {
   "cell_type": "code",
   "execution_count": 46,
   "id": "963675ce",
   "metadata": {
    "scrolled": false
   },
   "outputs": [
    {
     "data": {
      "text/plain": [
       "12"
      ]
     },
     "execution_count": 46,
     "metadata": {},
     "output_type": "execute_result"
    }
   ],
   "source": [
    "len(success)"
   ]
  },
  {
   "cell_type": "code",
   "execution_count": 47,
   "id": "81a8bb71",
   "metadata": {},
   "outputs": [
    {
     "data": {
      "text/plain": [
       "{78948: 200,\n",
       " 78836: 200,\n",
       " 78703: 200,\n",
       " 78701: 200,\n",
       " 78659: 200,\n",
       " 78581: 200,\n",
       " 78500: 200,\n",
       " 78484: 200,\n",
       " 78458: 200,\n",
       " 78354: 200,\n",
       " 78350: 200,\n",
       " 73704: 200}"
      ]
     },
     "execution_count": 47,
     "metadata": {},
     "output_type": "execute_result"
    }
   ],
   "source": [
    "success"
   ]
  },
  {
   "cell_type": "code",
   "execution_count": 48,
   "id": "e39ca386",
   "metadata": {},
   "outputs": [
    {
     "data": {
      "text/plain": [
       "73704"
      ]
     },
     "execution_count": 48,
     "metadata": {},
     "output_type": "execute_result"
    }
   ],
   "source": [
    "list(success)[-1]"
   ]
  },
  {
   "cell_type": "code",
   "execution_count": 10,
   "id": "a9f6c724",
   "metadata": {},
   "outputs": [
    {
     "data": {
      "text/plain": [
       "{}"
      ]
     },
     "execution_count": 10,
     "metadata": {},
     "output_type": "execute_result"
    }
   ],
   "source": [
    "errorID_get"
   ]
  },
  {
   "cell_type": "code",
   "execution_count": 11,
   "id": "c9a94dca",
   "metadata": {},
   "outputs": [
    {
     "ename": "IndexError",
     "evalue": "list index out of range",
     "output_type": "error",
     "traceback": [
      "\u001b[1;31m---------------------------------------------------------------------------\u001b[0m",
      "\u001b[1;31mIndexError\u001b[0m                                Traceback (most recent call last)",
      "Cell \u001b[1;32mIn[11], line 1\u001b[0m\n\u001b[1;32m----> 1\u001b[0m \u001b[38;5;28;43mlist\u001b[39;49m\u001b[43m(\u001b[49m\u001b[43merrorID_put\u001b[49m\u001b[43m)\u001b[49m\u001b[43m[\u001b[49m\u001b[38;5;241;43m-\u001b[39;49m\u001b[38;5;241;43m1\u001b[39;49m\u001b[43m]\u001b[49m\n",
      "\u001b[1;31mIndexError\u001b[0m: list index out of range"
     ]
    }
   ],
   "source": [
    "list(errorID_put)[-1]"
   ]
  },
  {
   "cell_type": "code",
   "execution_count": 12,
   "id": "91d7f579",
   "metadata": {},
   "outputs": [
    {
     "ename": "IndexError",
     "evalue": "list index out of range",
     "output_type": "error",
     "traceback": [
      "\u001b[1;31m---------------------------------------------------------------------------\u001b[0m",
      "\u001b[1;31mIndexError\u001b[0m                                Traceback (most recent call last)",
      "Cell \u001b[1;32mIn[12], line 1\u001b[0m\n\u001b[1;32m----> 1\u001b[0m \u001b[38;5;28;43mlist\u001b[39;49m\u001b[43m(\u001b[49m\u001b[43merrorID_get\u001b[49m\u001b[43m)\u001b[49m\u001b[43m[\u001b[49m\u001b[38;5;241;43m-\u001b[39;49m\u001b[38;5;241;43m1\u001b[39;49m\u001b[43m]\u001b[49m\n",
      "\u001b[1;31mIndexError\u001b[0m: list index out of range"
     ]
    }
   ],
   "source": [
    "list(errorID_get)[-1]"
   ]
  },
  {
   "cell_type": "code",
   "execution_count": 39,
   "id": "baf79fe3",
   "metadata": {},
   "outputs": [
    {
     "data": {
      "text/plain": [
       "200"
      ]
     },
     "execution_count": 39,
     "metadata": {},
     "output_type": "execute_result"
    }
   ],
   "source": [
    "r = requests.get('https://bps-world.vincere.io/api/v2/candidate/81650/customfields', headers=headers)\n",
    "r.status_code"
   ]
  },
  {
   "cell_type": "code",
   "execution_count": 40,
   "id": "4c6b0fc9",
   "metadata": {},
   "outputs": [
    {
     "data": {
      "text/plain": [
       "[{'key': '6c04623e10d39f08d1b2542e138b7efc',\n",
       "  'type': 'TEXT_BOX',\n",
       "  'field_value_ids': None,\n",
       "  'field_values': None,\n",
       "  'field_value': '19288375',\n",
       "  'date_value': None,\n",
       "  'element_value_groups': None}]"
      ]
     },
     "execution_count": 40,
     "metadata": {},
     "output_type": "execute_result"
    }
   ],
   "source": [
    "r.json()"
   ]
  }
 ],
 "metadata": {
  "kernelspec": {
   "display_name": "Python 3 (ipykernel)",
   "language": "python",
   "name": "python3"
  },
  "language_info": {
   "codemirror_mode": {
    "name": "ipython",
    "version": 3
   },
   "file_extension": ".py",
   "mimetype": "text/x-python",
   "name": "python",
   "nbconvert_exporter": "python",
   "pygments_lexer": "ipython3",
   "version": "3.9.12"
  }
 },
 "nbformat": 4,
 "nbformat_minor": 5
}
