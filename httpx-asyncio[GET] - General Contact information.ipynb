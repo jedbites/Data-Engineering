{
 "cells": [
  {
   "cell_type": "code",
   "execution_count": 1,
   "id": "e37f3141",
   "metadata": {},
   "outputs": [],
   "source": [
    "#import needed package\n",
    "import asyncio\n",
    "import httpx\n",
    "import pandas as pd\n",
    "import secret\n",
    "import refresh\n",
    "from time import perf_counter"
   ]
  },
  {
   "cell_type": "code",
   "execution_count": 2,
   "id": "90a0f055",
   "metadata": {},
   "outputs": [],
   "source": [
    "#authtokens and headers\n",
    "id_token = refresh.refreshed()\n",
    "headers = {\"content-type\":\"application/json\", \"x-api-key\": secret.api_key, \"id-token\": id_token}"
   ]
  },
  {
   "cell_type": "code",
   "execution_count": 3,
   "id": "09b3ab6e",
   "metadata": {},
   "outputs": [],
   "source": [
    "#scrape all\n",
    "vinny_id = 62869"
   ]
  },
  {
   "cell_type": "code",
   "execution_count": 4,
   "id": "8c8c6f72",
   "metadata": {},
   "outputs": [],
   "source": [
    "#api calls\n",
    "sem = asyncio.Semaphore(100)\n",
    "#scrape all id\n",
    "\n",
    "async def get_result(vinny_id:int):\n",
    "    async with sem:\n",
    "        async with httpx.AsyncClient() as client:\n",
    "            r = await client.get(f'https://bps-world.vincere.io/api/v2/contact/{vinny_id}', headers=headers)\n",
    "            if r.status_code == 200:\n",
    "                results.append(r.json())\n",
    "                return\n",
    "            else:\n",
    "                return\n",
    "\n",
    "#trigger main function\n",
    "async def main():\n",
    "    tasks = []\n",
    "    vinny_id = 33103\n",
    "    #gen_id = df['vinny_id']\n",
    "    while vinny_id <= 34013:\n",
    "        tasks.append(get_result(vinny_id))\n",
    "        vinny_id += 1\n",
    "    await asyncio.gather(*tasks, return_exceptions=True)\n",
    "\n",
    "#future container for finding errors and stuff\n",
    "results = []"
   ]
  },
  {
   "cell_type": "code",
   "execution_count": 5,
   "id": "bd93a771",
   "metadata": {},
   "outputs": [
    {
     "name": "stdout",
     "output_type": "stream",
     "text": [
      "time taken: 22.917186599999695  seconds\n"
     ]
    }
   ],
   "source": [
    "#trigger the whole function\n",
    "start = perf_counter()\n",
    "await main()\n",
    "stop = perf_counter()\n",
    "print('time taken:', stop - start, ' seconds')"
   ]
  },
  {
   "cell_type": "code",
   "execution_count": 6,
   "id": "b5285f9c",
   "metadata": {},
   "outputs": [],
   "source": [
    "#turn the data list into a pandas dataframe\n",
    "df = pd.DataFrame.from_dict(results, orient='columns')"
   ]
  },
  {
   "cell_type": "code",
   "execution_count": 7,
   "id": "19b6f988",
   "metadata": {},
   "outputs": [],
   "source": [
    "#from pandas dataframe to excel\n",
    "df.to_excel('complete_contact_vincere_data_200323.xlsx', index=False)"
   ]
  }
 ],
 "metadata": {
  "kernelspec": {
   "display_name": "Python 3 (ipykernel)",
   "language": "python",
   "name": "python3"
  },
  "language_info": {
   "codemirror_mode": {
    "name": "ipython",
    "version": 3
   },
   "file_extension": ".py",
   "mimetype": "text/x-python",
   "name": "python",
   "nbconvert_exporter": "python",
   "pygments_lexer": "ipython3",
   "version": "3.9.12"
  }
 },
 "nbformat": 4,
 "nbformat_minor": 5
}
